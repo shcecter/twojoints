{
 "cells": [
  {
   "cell_type": "code",
   "execution_count": 10,
   "id": "3eef639b",
   "metadata": {},
   "outputs": [
    {
     "name": "stdout",
     "output_type": "stream",
     "text": [
      "The autoreload extension is already loaded. To reload it, use:\n",
      "  %reload_ext autoreload\n"
     ]
    }
   ],
   "source": [
    "from brian2 import *\n",
    "from scipy.integrate import solve_ivp\n",
    "\n",
    "import libra.custom_muscles as custmus\n",
    "\n",
    "from libra.joint_mechanics import *\n",
    "\n",
    "\n",
    "%load_ext autoreload\n",
    "%autoreload 2"
   ]
  },
  {
   "cell_type": "code",
   "execution_count": 5,
   "id": "2d71b0e1",
   "metadata": {},
   "outputs": [
    {
     "name": "stdout",
     "output_type": "stream",
     "text": [
      "The states were successfully loaded and are stored in the variable S.\n",
      "The parameters were successfully loaded and are stored in the variable P.\n",
      "The states were successfully loaded and are stored in the variable S.\n",
      "The parameters were successfully loaded and are stored in the variable P.\n"
     ]
    }
   ],
   "source": [
    "sf_vars = custmus.sf_vars\n",
    "sf_vars[-1] = 500\n",
    "sfo, sfi = sf_vars[0:2]  # mech_vars\n",
    "sf_muscle = custmus.create_custom_muscle(*sf_vars[2:])\n",
    "\n",
    "se_vars = custmus.se_vars\n",
    "se_vars[-1] = 400\n",
    "seo, sei = se_vars[0:2]\n",
    "se_muscle = custmus.create_custom_muscle(*se_vars[2:])\n",
    "\n",
    "ps = (sfo, sfi, seo, sei)"
   ]
  },
  {
   "cell_type": "code",
   "execution_count": 6,
   "id": "ec0e7420",
   "metadata": {},
   "outputs": [],
   "source": [
    "def onejointarm(t, state, ps, muscles):\n",
    "    \"\"\"\n",
    "    Differential equation for one joint 'hand'. Intented to be used as input to solve_ivp\n",
    "    to get movement simulation.\n",
    "    \"\"\"\n",
    "    q = state[0]\n",
    "    dq = state[1]\n",
    "    sf_lm = state[2]\n",
    "    se_lm = state[3]\n",
    "    \n",
    "    sf_muscle, se_muscle = muscles\n",
    "    \n",
    "    sfo, sfi, seo, sei = ps\n",
    "    sf_lmt = get_lmt_from_q(sfo, sfi, pi-q)\n",
    "    se_lmt = get_lmt_from_q(seo, sei, q)\n",
    "    dsf_lm, sf_force_se = get_muscle_dynamics(sf_muscle, sf_lm, sf_lmt, t)\n",
    "    dse_lm, se_force_se = get_muscle_dynamics(se_muscle, se_lm, se_lmt, t)\n",
    "    T_sf = sf_force_se * get_arm(sfo, sfi, pi-q)\n",
    "    T_se = se_force_se * get_arm(seo, sei, q)\n",
    "    \n",
    "    T = T_sf - T_se\n",
    "    \n",
    "    # friction\n",
    "    Qfric = 0.\n",
    "    if q <= np.deg2rad(15) and dq < 0.:\n",
    "        Qfric = -dq * 200\n",
    "    \n",
    "    m = 2.4  # kg\n",
    "    l = 0.3\n",
    "    m_l = .5*l  # mass point len\n",
    "    g = 9.81\n",
    "    i = (m * l**2) / 3  # moment of inertia\n",
    "    ddq = (Qfric + T - m*g*m_l*sin(q)) / (i + (m*m_l**2))\n",
    "    return dq, ddq, dsf_lm, dse_lm"
   ]
  },
  {
   "cell_type": "code",
   "execution_count": 15,
   "id": "1bc46b69",
   "metadata": {},
   "outputs": [],
   "source": [
    "# just to get sense\n",
    "t_stop = 0.5\n",
    "sf_muscle.activation = lambda t: 1.\n",
    "se_muscle.activation = lambda t: .01  # cannot be exactly 0.\n",
    "muscles = [sf_muscle, se_muscle]\n",
    "q0 = deg2rad(15)\n",
    "initstate = [q0, 0., sf_vars[3], se_vars[3]]  # q0 (rad) dq0 (rad/sec) sf_lm0 [m] se_lm0 [m]\n",
    "solobj = solve_ivp(onejointarm, [0, t_stop], initstate, args=[ps, muscles,], method=\"BDF\")"
   ]
  },
  {
   "cell_type": "code",
   "execution_count": 17,
   "id": "66b5e965",
   "metadata": {
    "scrolled": false
   },
   "outputs": [
    {
     "data": {
      "text/plain": [
       "(4, 87)"
      ]
     },
     "execution_count": 17,
     "metadata": {},
     "output_type": "execute_result"
    }
   ],
   "source": [
    "tt = solobj[\"t\"]\n",
    "states = solobj[\"y\"]\n",
    "states.shape"
   ]
  },
  {
   "cell_type": "code",
   "execution_count": 20,
   "id": "01335c77",
   "metadata": {},
   "outputs": [
    {
     "data": {
      "text/plain": [
       "<matplotlib.legend.Legend at 0x1407291e0>"
      ]
     },
     "execution_count": 20,
     "metadata": {},
     "output_type": "execute_result"
    },
    {
     "data": {
      "image/png": "[encoded data removed]",
      "text/plain": [
       "<Figure size 432x288 with 1 Axes>"
      ]
     },
     "metadata": {
      "needs_background": "light"
     },
     "output_type": "display_data"
    },
    {
     "data": {
      "image/png": "[encoded data removed]",
      "text/plain": [
       "<Figure size 432x288 with 1 Axes>"
      ]
     },
     "metadata": {
      "needs_background": "light"
     },
     "output_type": "display_data"
    }
   ],
   "source": [
    "plot(tt, rad2deg(states[0, :]), label='q')\n",
    "plot(tt, rad2deg(states[1, :]), label=\"dq\")\n",
    "legend()\n",
    "\n",
    "figure()\n",
    "plot(tt, states[2, :], label=\"$sf_{lm}$\")\n",
    "plot(tt, states[3, :], label=\"$se_{lm}$\")\n",
    "\n",
    "legend()"
   ]
  },
  {
   "cell_type": "code",
   "execution_count": null,
   "id": "a37c63e8",
   "metadata": {},
   "outputs": [],
   "source": []
  }
 ],
 "metadata": {
  "kernelspec": {
   "display_name": "Python 3 (ipykernel)",
   "language": "python",
   "name": "python3"
  },
  "language_info": {
   "codemirror_mode": {
    "name": "ipython",
    "version": 3
   },
   "file_extension": ".py",
   "mimetype": "text/x-python",
   "name": "python",
   "nbconvert_exporter": "python",
   "pygments_lexer": "ipython3",
   "version": "3.10.5"
  }
 },
 "nbformat": 4,
 "nbformat_minor": 5
}
