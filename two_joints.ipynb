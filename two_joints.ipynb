{
 "cells": [
  {
   "cell_type": "code",
   "execution_count": 2,
   "id": "3eef639b",
   "metadata": {},
   "outputs": [],
   "source": [
    "from brian2 import *\n",
    "from scipy.integrate import solve_ivp\n",
    "\n",
    "import libra.custom_muscles as custmus\n",
    "\n",
    "from libra.joint_mechanics import *\n",
    "\n",
    "\n",
    "%load_ext autoreload\n",
    "%autoreload 2"
   ]
  },
  {
   "cell_type": "code",
   "execution_count": 4,
   "id": "2d71b0e1",
   "metadata": {},
   "outputs": [
    {
     "name": "stdout",
     "output_type": "stream",
     "text": [
      "The states were successfully loaded and are stored in the variable S.\n",
      "The parameters were successfully loaded and are stored in the variable P.\n",
      "The states were successfully loaded and are stored in the variable S.\n",
      "The parameters were successfully loaded and are stored in the variable P.\n",
      "The states were successfully loaded and are stored in the variable S.\n",
      "The parameters were successfully loaded and are stored in the variable P.\n"
     ]
    }
   ],
   "source": [
    "sf_vars = custmus.sf_vars\n",
    "sf_vars[-1] = 500\n",
    "sfo, sfi = sf_vars[0:2]  # mech_vars\n",
    "sf_muscle = custmus.create_custom_muscle(*sf_vars[2:])\n",
    "\n",
    "se_vars = custmus.se_vars\n",
    "se_vars[-1] = 400\n",
    "seo, sei = se_vars[0:2]\n",
    "se_muscle = custmus.create_custom_muscle(*se_vars[2:])\n",
    "\n",
    "ef_vars = custmus.ef_vars\n",
    "ef_vars[-1] = 600\n",
    "efo, efi = ef_vars[0:2]\n",
    "ef_muscle = custmus.create_custom_muscle(*ef_vars[2:])\n",
    "\n",
    "ps = (sfo, sfi, seo, sei)\n",
    "ps_2j = (sfo, sfi, seo, sei, efo, efi)  # for two_joint_mech version"
   ]
  },
  {
   "cell_type": "markdown",
   "id": "0adcf055-6ead-4e8f-8a37-7ff668d2f991",
   "metadata": {},
   "source": [
    "# just recalling"
   ]
  },
  {
   "cell_type": "code",
   "execution_count": 3,
   "id": "e0cf5f3e",
   "metadata": {},
   "outputs": [],
   "source": [
    "def onejointarm(t, state, ps, muscles):\n",
    "    \"\"\"\n",
    "    Differential equation for one joint 'hand'. Intented to be used as input to solve_ivp\n",
    "    to get movement simulation.\n",
    "    \"\"\"\n",
    "    q = state[0]\n",
    "    dq = state[1]\n",
    "    sf_lm = state[2]\n",
    "    se_lm = state[3]\n",
    "    \n",
    "    sf_muscle, se_muscle = muscles\n",
    "    \n",
    "    sfo, sfi, seo, sei = ps\n",
    "    sf_lmt = get_lmt_from_q(sfo, sfi, pi-q)\n",
    "    se_lmt = get_lmt_from_q(seo, sei, q)\n",
    "    dsf_lm, sf_force_se = get_muscle_dynamics(sf_muscle, sf_lm, sf_lmt, t)\n",
    "    dse_lm, se_force_se = get_muscle_dynamics(se_muscle, se_lm, se_lmt, t)\n",
    "    T_sf = sf_force_se * get_arm(sfo, sfi, pi-q)\n",
    "    T_se = se_force_se * get_arm(seo, sei, q)\n",
    "    \n",
    "    T = T_sf - T_se\n",
    "    \n",
    "    # friction\n",
    "    Qfric = 0.\n",
    "    if q <= np.deg2rad(15) and dq < 0.:\n",
    "        Qfric = -dq * 200\n",
    "    \n",
    "    m = 2.4  # kg\n",
    "    l = 0.3\n",
    "    m_l = .5*l  # mass point len\n",
    "    g = 9.81\n",
    "    i = (m * l**2) / 3  # moment of inertia\n",
    "    ddq = (Qfric + T - m*g*m_l*sin(q)) / (i + (m*m_l**2))\n",
    "    return dq, ddq, dsf_lm, dse_lm"
   ]
  },
  {
   "cell_type": "code",
   "execution_count": 4,
   "id": "f813bd44",
   "metadata": {},
   "outputs": [],
   "source": [
    "# just to get sense\n",
    "t_stop = 0.5\n",
    "sf_muscle.activation = lambda t: 1.\n",
    "se_muscle.activation = lambda t: .01  # cannot be exactly 0.\n",
    "muscles = [sf_muscle, se_muscle]\n",
    "q0 = deg2rad(15)\n",
    "initstate = [q0, 0., sf_vars[3], se_vars[3]]  # q0 (rad) dq0 (rad/sec) sf_lm0 [m] se_lm0 [m]\n",
    "solobj = solve_ivp(onejointarm, [0, t_stop], initstate, args=[ps, muscles,], method=\"BDF\")"
   ]
  },
  {
   "cell_type": "code",
   "execution_count": 5,
   "id": "ad773f76",
   "metadata": {},
   "outputs": [
    {
     "data": {
      "text/plain": [
       "(4, 87)"
      ]
     },
     "execution_count": 5,
     "metadata": {},
     "output_type": "execute_result"
    }
   ],
   "source": [
    "tt = solobj[\"t\"]\n",
    "states = solobj[\"y\"]\n",
    "states.shape"
   ]
  },
  {
   "cell_type": "code",
   "execution_count": 6,
   "id": "eecf8b91",
   "metadata": {},
   "outputs": [
    {
     "data": {
      "text/plain": [
       "<matplotlib.legend.Legend at 0x11a665de0>"
      ]
     },
     "execution_count": 6,
     "metadata": {},
     "output_type": "execute_result"
    },
    {
     "data": {
      "image/png": "[encoded data removed]",
      "text/plain": [
       "<Figure size 432x288 with 1 Axes>"
      ]
     },
     "metadata": {
      "needs_background": "light"
     },
     "output_type": "display_data"
    },
    {
     "data": {
      "image/png": "[encoded data removed]",
      "text/plain": [
       "<Figure size 432x288 with 1 Axes>"
      ]
     },
     "metadata": {
      "needs_background": "light"
     },
     "output_type": "display_data"
    }
   ],
   "source": [
    "plot(tt, rad2deg(states[0, :]), label='q')\n",
    "plot(tt, rad2deg(states[1, :]), label=\"dq\")\n",
    "legend()\n",
    "\n",
    "figure()\n",
    "plot(tt, states[2, :], label=\"$sf_{lm}$\")\n",
    "plot(tt, states[3, :], label=\"$se_{lm}$\")\n",
    "\n",
    "legend()"
   ]
  },
  {
   "cell_type": "markdown",
   "id": "78772b42-b027-49c0-96f2-7315139bffaf",
   "metadata": {},
   "source": [
    "# Two join mechanics"
   ]
  },
  {
   "cell_type": "code",
   "execution_count": null,
   "id": "9f718b00-3a2c-4531-9ef7-c79d1845cebf",
   "metadata": {},
   "outputs": [],
   "source": [
    "# two_j_mech_modfed -- is a two_joint_mech modified for using with solve_ivp"
   ]
  },
  {
   "cell_type": "code",
   "execution_count": 4,
   "id": "08803357-280b-49ff-85d1-221f38f63b05",
   "metadata": {},
   "outputs": [],
   "source": [
    "# DEV: detele\n",
    "t_stop = 0.5\n",
    "sf_muscle.activation = lambda t: 1.\n",
    "se_muscle.activation = lambda t: .01  # cannot be exactly 0.\n",
    "muscles = [sf_muscle, se_muscle]\n",
    "q0 = deg2rad(15)\n",
    "initstate = [q0, 0., sf_vars[3], se_vars[3]]  # q0 (rad) dq0 (rad/sec) sf_lm0 [m] se_lm0 [m]\n",
    "solobj = solve_ivp(onejointarm, [0, t_stop], initstate, args=[ps, muscles,], method=\"BDF\")"
   ]
  },
  {
   "cell_type": "code",
   "execution_count": 6,
   "id": "3d6f1758-fe08-42ad-968d-1b5a203e9eea",
   "metadata": {},
   "outputs": [],
   "source": [
    "t_stop = 0.5  # half a second\n",
    "sf_muscle.activation = lambda t: 1.\n",
    "se_muscle.activation = lambda t: .01\n",
    "ef_muscle.activation = lambda t: 1.  # should be checked with grid search\n",
    "muscles = [sf_muscle, se_muscle, ef_muscle]\n",
    "q_sh = deg2rad(15); q_el = deg2rad(10)\n",
    "initstate = [q_sh, 0., q_el, 0., sf_vars[3], se_vars[3], ef_vars[3]]\n",
    "solobj = solve_ivp(two_j_mech_modfed, [0, t_stop], initstate,\n",
    "                   args=[ps_2j, muscles], method=\"BDF\")"
   ]
  },
  {
   "cell_type": "code",
   "execution_count": 9,
   "id": "3dff306d-30cc-4a23-aa1c-b2773d3a8084",
   "metadata": {},
   "outputs": [],
   "source": [
    "tt_2j = solobj[\"t\"]\n",
    "states_2j = solobj[\"y\"]"
   ]
  },
  {
   "cell_type": "code",
   "execution_count": 11,
   "id": "0fa86e6d-4498-47cf-9993-8efbf909343f",
   "metadata": {},
   "outputs": [
    {
     "data": {
      "text/plain": [
       "Text(0, 0.5, 'angle, deg')"
      ]
     },
     "execution_count": 11,
     "metadata": {},
     "output_type": "execute_result"
    },
    {
     "data": {
      "image/png": "[encoded data removed]",
      "text/plain": [
       "<Figure size 432x288 with 1 Axes>"
      ]
     },
     "metadata": {
      "needs_background": "light"
     },
     "output_type": "display_data"
    },
    {
     "data": {
      "image/png": "[encoded data removed]",
      "text/plain": [
       "<Figure size 432x288 with 1 Axes>"
      ]
     },
     "metadata": {
      "needs_background": "light"
     },
     "output_type": "display_data"
    }
   ],
   "source": [
    "plot(tt_2j, rad2deg(states_2j[0]), label=\"$q_{sh}$\")\n",
    "plot(tt_2j, rad2deg(states_2j[2]), label=\"$q_{el}$\")\n",
    "legend()\n",
    "xlabel(\"time [ms]\")\n",
    "ylabel(\"angle, deg\")\n",
    "\n",
    "figure()\n",
    "\n",
    "plot(tt_2j, rad2deg(states_2j[4]), label=\"$l_{sf}$\")\n",
    "plot(tt_2j, rad2deg(states_2j[5]), label=\"$l_{se}$\")\n",
    "plot(tt_2j, rad2deg(states_2j[6]), label=\"$l_{ef}$\")\n",
    "legend()\n",
    "xlabel(\"time [ms]\")\n",
    "ylabel(\"angle, deg\")"
   ]
  },
  {
   "cell_type": "code",
   "execution_count": null,
   "id": "15ee06fa-4047-4336-98f2-97466974b2ad",
   "metadata": {},
   "outputs": [],
   "source": []
  }
 ],
 "metadata": {
  "kernelspec": {
   "display_name": "Python 3 (ipykernel)",
   "language": "python",
   "name": "python3"
  },
  "language_info": {
   "codemirror_mode": {
    "name": "ipython",
    "version": 3
   },
   "file_extension": ".py",
   "mimetype": "text/x-python",
   "name": "python",
   "nbconvert_exporter": "python",
   "pygments_lexer": "ipython3",
   "version": "3.10.5"
  }
 },
 "nbformat": 4,
 "nbformat_minor": 5
}
